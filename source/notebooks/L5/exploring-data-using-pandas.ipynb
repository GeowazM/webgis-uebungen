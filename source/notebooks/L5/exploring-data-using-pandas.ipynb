{
 "cells": [
  {
   "cell_type": "markdown",
   "metadata": {
    "deletable": true,
    "editable": true
   },
   "source": [
    "# Exploring data using pandas\n",
    "\n",
    "```{attention}\n",
    "Finnish university students are encouraged to use the CSC Noppe platform.<br/>\n",
    "<a href=\"https://noppe.csc.fi/\"><img alt=\"CSC badge\" src=\"https://img.shields.io/badge/launch-CSC%20Noppe-blue.svg\" style=\"vertical-align:text-bottom\"></a>\n",
    "\n",
    "Others can follow the lesson and fill in their student notebooks using Binder. Binder can be launched using the interactive code tools (rocket icon) on the lesson page linked below.\n",
    "```\n",
    "\n",
    "In this section we introduce how to read, write, and explore tabular data using `pandas`.\n",
    "\n",
    "## Lesson materials\n",
    "\n",
    "Materials for this lesson are from Chapter 3 of the forthcoming textbook [*Introduction to Python for Geographic Data Analysis*](https://pythongis.org/). In this lesson we cover the materials from [Chapter 3.1 (Getting started with data analysis)](https://pythongis.org/part1/chapter-03/nb/00-pandas-basics.html). A brief description of the data used in this lesson can also be found below.\n",
    "\n",
    "### Input data: Weather statistics\n",
    "\n",
    "Our input data is a text file containing weather observations from Kumpula, Helsinki, Finland retrieved from the [Finnish Meteorlogical Institute (FMI)](https://en.ilmatieteenlaitos.fi):\n",
    "\n",
    "- File name: [`kumpula-summer-2024.txt`](kumpula-summer-2024.txt) (have a look at the file before reading it in using `pandas`!)\n",
    "- The file is available in Binder and the CSC Noppe platforms in the `L5/data`  \n",
    "- The data file contains observed daily temperatures recorded twice per day (TEMP1: 10AM, TEMP2: 4PM) as well as minimum, and maximum temperatures from Summer 2024 (1.6.2024 - 31.8.2024) recorded from the Kumpula weather observation station in Helsinki.\n",
    "- There are 92 rows of data in this sample data set.\n",
    "- The data has been derived from a data file of daily temperature measurements downloaded from the [FMI data service](https://en.ilmatieteenlaitos.fi/open-data). The structure of the data in the file has been modified for use in this lesson."
   ]
  }
 ],
 "metadata": {
  "anaconda-cloud": {},
  "kernelspec": {
   "display_name": "Python 3 (ipykernel)",
   "language": "python",
   "name": "python3"
  },
  "language_info": {
   "codemirror_mode": {
    "name": "ipython",
    "version": 3
   },
   "file_extension": ".py",
   "mimetype": "text/x-python",
   "name": "python",
   "nbconvert_exporter": "python",
   "pygments_lexer": "ipython3",
   "version": "3.11.7"
  }
 },
 "nbformat": 4,
 "nbformat_minor": 4
}
