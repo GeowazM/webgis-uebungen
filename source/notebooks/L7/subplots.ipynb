{
 "cells": [
  {
   "cell_type": "markdown",
   "metadata": {},
   "source": [
    "# Creating subplots\n",
    "\n",
    "```{attention}\n",
    "Finnish university students are encouraged to use the CSC Noppe platform.<br/>\n",
    "<a href=\"https://noppe.csc.fi/\"><img alt=\"CSC badge\" src=\"https://img.shields.io/badge/launch-CSC%20Noppe-blue.svg\" style=\"vertical-align:text-bottom\"></a>\n",
    "\n",
    "We do not recommended using Binder for this lesson.\n",
    "```\n",
    "\n",
    "In this lesson we introduce you to creating multi-panel plots using the `.subplots()` function from `matplotlib.`\n",
    "\n",
    "## Lesson materials\n",
    "\n",
    "Materials for this lesson are from Chapter 4 of the forthcoming textbook [*Introduction to Python for Geographic Data Analysis*](https://pythongis.org/). In this lesson we cover the materials from [Chapter 4.3 (Creating subplots)](https://pythongis.org/part1/chapter-04/nb/02-subplots.html)."
   ]
  }
 ],
 "metadata": {
  "kernelspec": {
   "display_name": "Python 3 (ipykernel)",
   "language": "python",
   "name": "python3"
  },
  "language_info": {
   "codemirror_mode": {
    "name": "ipython",
    "version": 3
   },
   "file_extension": ".py",
   "mimetype": "text/x-python",
   "name": "python",
   "nbconvert_exporter": "python",
   "pygments_lexer": "ipython3",
   "version": "3.11.6"
  }
 },
 "nbformat": 4,
 "nbformat_minor": 4
}
